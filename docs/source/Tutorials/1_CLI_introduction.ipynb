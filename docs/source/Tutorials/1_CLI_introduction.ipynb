{
 "cells": [
  {
   "cell_type": "markdown",
   "id": "chubby-tenant",
   "metadata": {},
   "source": [
    "# Downloading Using the Command Line\n",
    "\n",
    "This [jupyter notebook](https://jupyter.org) introduces [Sarracenia version 3](https://metpx.github.io/sarracenia) usage from the command line (mostly on Linux, but should be similar on Windows and Mac also, main difference being different conventions for where preferences and logs are stored. This is probably the easiest way to work with Sarracenia. You configure a flow to download files into a directory, and you can read the directory to process the files there.\n"
   ]
  },
  {
   "cell_type": "code",
   "execution_count": 1,
   "id": "neither-shannon",
   "metadata": {},
   "outputs": [],
   "source": [
    "import sarracenia\n",
    "!mkdir -p ~/.config/sr3/subscribe\n",
    "!mkdir -p ~/.cache/sr3/log"
   ]
  },
  {
   "cell_type": "markdown",
   "id": "varying-armor",
   "metadata": {},
   "source": [
    "\n",
    "## Prerequisites\n",
    "\n",
    "The above is just a way to get jupyter notebooks to install metpx-sr3 on a server.\n",
    "Creating some directories in case people use API access without running things through the API. The basic pre-requisite is to have metpx-sr3 installed somehow, either as a .deb package, or using pip (or pip3) available to the environment used by jupyter.\n",
    "\n",
    "The rest of this notebook assumes [metpx-sr3](https://metpx.github.io/sarracenia) is installed."
   ]
  },
  {
   "cell_type": "markdown",
   "id": "absolute-integral",
   "metadata": {},
   "source": [
    "## SR3\n",
    "\n",
    "The command line interface is called [sr3](../Reference/sr3.1.rst) (short for Sarracenia version 3). One defines\n",
    "flows to run using configuration files in a simple format: _keyword_ _value_ format.\n",
    "there are example configurations to get you started:"
   ]
  },
  {
   "cell_type": "code",
   "execution_count": 1,
   "id": "drawn-opposition",
   "metadata": {
    "scrolled": false
   },
   "outputs": [
    {
     "name": "stdout",
     "output_type": "stream",
     "text": [
      "Sample Configurations: (from: /home/peter/Sarracenia/sr3/sarracenia/examples )\r\n",
      "cpump/cno_trouble_f00.inc        flow/amserver.conf               \r\n",
      "flow/opg.conf                    flow/poll.inc                    \r\n",
      "flow/post.inc                    flow/report.inc                  \r\n",
      "flow/sarra.inc                   flow/sender.inc                  \r\n",
      "flow/shovel.inc                  flow/subscribe.inc               \r\n",
      "flow/watch.inc                   flow/winnow.inc                  \r\n",
      "poll/airnow.conf                 poll/aws-nexrad.conf             \r\n",
      "poll/copernicus_odata.conf       poll/mail.conf                   \r\n",
      "poll/nasa-mls-nrt.conf           poll/nasa_cmr_opendap.conf       \r\n",
      "poll/nasa_cmr_other.conf         poll/nasa_cmr_podaac.conf        \r\n",
      "poll/noaa.conf                   poll/soapshc.conf                \r\n",
      "poll/usgs.conf                   post/WMO_mesh_post.conf          \r\n",
      "sarra/wmo_mesh.conf              sender/am_send.conf              \r\n",
      "sender/ec2collab.conf            sender/pitcher_push.conf         \r\n",
      "shovel/no_trouble_f00.inc        subscribe/aws-nexrad.conf        \r\n",
      "subscribe/dd_2mqtt.conf          subscribe/dd_all.conf            \r\n",
      "subscribe/dd_amis.conf           subscribe/dd_aqhi.conf           \r\n",
      "subscribe/dd_cacn_bulletins.conf subscribe/dd_citypage.conf       \r\n",
      "subscribe/dd_cmml.conf           subscribe/dd_gdps.conf           \r\n",
      "subscribe/dd_radar.conf          subscribe/dd_rdps.conf           \r\n",
      "subscribe/dd_swob.conf           subscribe/ddc_cap-xml.conf       \r\n",
      "subscribe/ddc_normal.conf        subscribe/download_all_nasa_earthdata.conf \r\n",
      "subscribe/downloademail.conf     subscribe/ec_ninjo-a.conf        \r\n",
      "subscribe/get_copernicus.conf    subscribe/hpfxWIS2DownloadAll.conf \r\n",
      "subscribe/hpfx_amis.conf         subscribe/hpfx_citypage.conf     \r\n",
      "subscribe/local_sub.conf         subscribe/ping.conf              \r\n",
      "subscribe/pitcher_pull.conf      subscribe/sci2ec.conf            \r\n",
      "subscribe/subnoaa.conf           subscribe/subsoapshc.conf        \r\n",
      "subscribe/subusgs.conf           watch/master.conf                \r\n",
      "watch/pitcher_client.conf        watch/pitcher_server.conf        \r\n",
      "watch/sci2ec.conf                \r\n"
     ]
    }
   ],
   "source": [
    "!sr3 list examples"
   ]
  },
  {
   "cell_type": "markdown",
   "id": "affecting-marking",
   "metadata": {},
   "source": [
    "There are different kinds for flows: the examples are classified flow type (poll, post, sarra, sender, shovel...)\n",
    "A _subscribe_ is used by clients to download from a data pump. Let's pick one of those."
   ]
  },
  {
   "cell_type": "code",
   "execution_count": 2,
   "id": "egyptian-suicide",
   "metadata": {
    "scrolled": true
   },
   "outputs": [
    {
     "name": "stdout",
     "output_type": "stream",
     "text": [
      "add: 2024-01-12 15:47:53,081 127062 [INFO] sarracenia.sr add copying: /home/peter/Sarracenia/sr3/sarracenia/examples/subscribe/hpfx_amis.conf to /home/peter/.config/sr3/subscribe/hpfx_amis.conf \r\n",
      "\r\n"
     ]
    }
   ],
   "source": [
    "!sr3 add subscribe/hpfx_amis.conf"
   ]
  },
  {
   "cell_type": "markdown",
   "id": "overall-instruction",
   "metadata": {},
   "source": [
    "The files that are active for you are place in ~/.config/sr3/<flow_type>/config_name.  You can browse there \n",
    "and modify them with an editor if you like.  You can do that also with  _sr3 edit subscribe/hpfx_amis.conf_\n",
    "\n",
    "    # this is a feed of wmo bulletin (a set called AMIS in the old times)\n",
    "\n",
    "    broker amqps://hpfx.collab.science.gc.ca/\n",
    "    exchange xpublic\n",
    "\n",
    "    # instances: number of downloading processes to run at once.  defaults to 1. Not enough for this case\n",
    "    instances 5\n",
    "   \n",
    "    # expire, in operational use, should be longer than longest expected interruption\n",
    "    expire 10m\n",
    "\n",
    "    topicPrefix v02.post\n",
    "    subtopic *.WXO-DD.bulletins.alphanumeric.#\n",
    "    mirror false\n",
    "    directory /tmp/hpfx_amis/\n",
    "\n",
    "added the messageCountMax, so it doesn't run forever."
   ]
  },
  {
   "cell_type": "code",
   "execution_count": 3,
   "id": "primary-score",
   "metadata": {},
   "outputs": [],
   "source": [
    "!mkdir /tmp/hpfx_amis\n",
    "!echo messageCountMax 10 >>~/.config/sr3/subscribe/hpfx_amis.conf"
   ]
  },
  {
   "cell_type": "markdown",
   "id": "ancient-scholarship",
   "metadata": {},
   "source": [
    "The root directory where files are to be placed needs to exist before you start.\n",
    "the above commands are to configure on a linux machine, you might need something else on a mac or windows.\n",
    "\n",
    "You can then run a flow interactively with the _foreground_ action, and it will end quickly, like so:"
   ]
  },
  {
   "cell_type": "code",
   "execution_count": 4,
   "id": "nominated-nerve",
   "metadata": {},
   "outputs": [
    {
     "name": "stdout",
     "output_type": "stream",
     "text": [
      "2024-01-12 15:50:03,810 127223 [INFO] sarracenia.config finalize overriding batch for consistency with messageCountMax: {self.batch}\n",
      ".2024-01-12 15:50:04,207 [INFO] 127226 sarracenia.config finalize overriding batch for consistency with messageCountMax: {self.batch}\n",
      "2024-01-12 15:50:04,213 [INFO] 127226 sarracenia.config finalize overriding batch for consistency with messageCountMax: {self.batch}\n",
      "2024-01-12 15:50:04,213 [INFO] 127226 sarracenia.flow loadCallbacks flowCallback plugins to load: ['sarracenia.flowcb.gather.message.Message', 'sarracenia.flowcb.retry.Retry', 'sarracenia.flowcb.housekeeping.resources.Resources', 'log']\n",
      "2024-01-12 15:50:04,217 [INFO] 127226 sarracenia.flowcb.log __init__ subscribe initialized with: logEvents: {'after_work', 'after_accept', 'after_post', 'post', 'on_housekeeping'},  logMessageDump: False\n",
      "2024-01-12 15:50:04,217 [INFO] 127226 sarracenia.flow run callbacks loaded: ['sarracenia.flowcb.gather.message.Message', 'sarracenia.flowcb.retry.Retry', 'sarracenia.flowcb.housekeeping.resources.Resources', 'log']\n",
      "2024-01-12 15:50:04,217 [INFO] 127226 sarracenia.flow run pid: 127226 subscribe/hpfx_amis instance: 0\n",
      "2024-01-12 15:50:04,631 [INFO] 127226 sarracenia.moth.amqp _queueDeclare queue declared q_anonymous_subscribe.hpfx_amis.08788568.39025730 (as: amqps://anonymous@hpfx.collab.science.gc.ca/), (messages waiting: 0)\n",
      "2024-01-12 15:50:04,632 [INFO] 127226 sarracenia.moth.amqp getSetup binding q_anonymous_subscribe.hpfx_amis.08788568.39025730 with v02.post.*.WXO-DD.bulletins.alphanumeric.# to xpublic (as: amqps://anonymous@hpfx.collab.science.gc.ca/)\n",
      "2024-01-12 15:50:04,683 [INFO] 127226 sarracenia.flow run now active on vip ['AnyAddressIsFine']\n",
      "2024-01-12 15:50:08,859 [INFO] 127226 sarracenia.flowcb.log after_accept accepted: (lag: 4.37 ) https://hpfx.collab.science.gc.ca /20240112/WXO-DD/bulletins/alphanumeric/20240112/SR/KWAL/20/SRCN40_KWAL_122049___63558\n",
      "2024-01-12 15:50:08,859 [INFO] 127226 sarracenia.flowcb.log after_accept accepted: (lag: 4.37 ) https://hpfx.collab.science.gc.ca /20240112/WXO-DD/bulletins/alphanumeric/20240112/SR/KWAL/20/SRMN70_KWAL_122049___30217\n",
      "2024-01-12 15:50:08,859 [INFO] 127226 sarracenia.flowcb.log after_accept accepted: (lag: 3.38 ) https://hpfx.collab.science.gc.ca /20240112/WXO-DD/bulletins/alphanumeric/20240112/SR/KWAL/20/SRCN40_KWAL_122049___52919\n",
      "2024-01-12 15:50:08,859 [INFO] 127226 sarracenia.flowcb.log after_accept accepted: (lag: 1.36 ) https://hpfx.collab.science.gc.ca /20240112/WXO-DD/bulletins/alphanumeric/20240112/SR/KWAL/20/SRCN40_KWAL_122049___9140\n",
      "2024-01-12 15:50:08,859 [INFO] 127226 sarracenia.flowcb.log after_accept accepted: (lag: 1.36 ) https://hpfx.collab.science.gc.ca /20240112/WXO-DD/bulletins/alphanumeric/20240112/SR/KWAL/20/SRWA20_KWAL_122049___32706\n",
      "2024-01-12 15:50:08,859 [INFO] 127226 sarracenia.flowcb.log after_accept accepted: (lag: 1.36 ) https://hpfx.collab.science.gc.ca /20240112/WXO-DD/bulletins/alphanumeric/20240112/SX/KWAL/20/SXCN40_KWAL_122049___44658\n",
      "2024-01-12 15:50:08,859 [INFO] 127226 sarracenia.flowcb.log after_accept accepted: (lag: 1.36 ) https://hpfx.collab.science.gc.ca /20240112/WXO-DD/bulletins/alphanumeric/20240112/SR/KWAL/20/SRND20_KWAL_122049___26354\n",
      "2024-01-12 15:50:09,475 [INFO] 127226 sarracenia.flowcb.log after_work downloaded ok: /tmp/hpfx_amis/SRCN40_KWAL_122049___63558 \n",
      "2024-01-12 15:50:09,475 [INFO] 127226 sarracenia.flowcb.log after_work downloaded ok: /tmp/hpfx_amis/SRMN70_KWAL_122049___30217 \n",
      "2024-01-12 15:50:09,475 [INFO] 127226 sarracenia.flowcb.log after_work downloaded ok: /tmp/hpfx_amis/SRCN40_KWAL_122049___52919 \n",
      "2024-01-12 15:50:09,475 [INFO] 127226 sarracenia.flowcb.log after_work downloaded ok: /tmp/hpfx_amis/SRCN40_KWAL_122049___9140 \n",
      "2024-01-12 15:50:09,475 [INFO] 127226 sarracenia.flowcb.log after_work downloaded ok: /tmp/hpfx_amis/SRWA20_KWAL_122049___32706 \n",
      "2024-01-12 15:50:09,475 [INFO] 127226 sarracenia.flowcb.log after_work downloaded ok: /tmp/hpfx_amis/SXCN40_KWAL_122049___44658 \n",
      "2024-01-12 15:50:09,475 [INFO] 127226 sarracenia.flowcb.log after_work downloaded ok: /tmp/hpfx_amis/SRND20_KWAL_122049___26354 \n",
      "2024-01-12 15:50:10,650 [INFO] 127226 sarracenia.flowcb.log after_accept accepted: (lag: 2.15 ) https://hpfx.collab.science.gc.ca /20240112/WXO-DD/bulletins/alphanumeric/20240112/SA/KWBC/20/SAUS22_KWBC_122100_RRB__27489\n",
      "2024-01-12 15:50:10,650 [INFO] 127226 sarracenia.flowcb.log after_accept accepted: (lag: 2.15 ) https://hpfx.collab.science.gc.ca /20240112/WXO-DD/bulletins/alphanumeric/20240112/UB/KWBC/20/UBUS31_KWBC_122050___34623\n",
      "2024-01-12 15:50:10,650 [INFO] 127226 sarracenia.flowcb.log after_accept accepted: (lag: 2.15 ) https://hpfx.collab.science.gc.ca /20240112/WXO-DD/bulletins/alphanumeric/20240112/SA/KWBC/20/SAUS70_KWBC_122050___57193\n",
      "2024-01-12 15:50:10,650 [INFO] 127226 sarracenia.flowcb.log after_accept accepted: (lag: 2.15 ) https://hpfx.collab.science.gc.ca /20240112/WXO-DD/bulletins/alphanumeric/20240112/SA/KWBC/20/SAXX60_KWBC_122100___24162\n",
      "2024-01-12 15:50:10,650 [INFO] 127226 sarracenia.flowcb.log after_accept accepted: (lag: 2.15 ) https://hpfx.collab.science.gc.ca /20240112/WXO-DD/bulletins/alphanumeric/20240112/SA/KWBC/20/SAUS70_KWBC_122100___63650\n",
      "2024-01-12 15:50:10,651 [INFO] 127226 sarracenia.flowcb.log after_accept accepted: (lag: 2.14 ) https://hpfx.collab.science.gc.ca /20240112/WXO-DD/bulletins/alphanumeric/20240112/SA/KWBC/20/SAUS70_KWBC_122000_RRX__32907\n",
      "2024-01-12 15:50:10,651 [INFO] 127226 sarracenia.flowcb.log after_accept accepted: (lag: 1.14 ) https://hpfx.collab.science.gc.ca /20240112/WXO-DD/bulletins/alphanumeric/20240112/SA/KWBC/20/SAXX60_KWBC_122050___36318\n",
      "2024-01-12 15:50:10,651 [INFO] 127226 sarracenia.flowcb.log after_accept accepted: (lag: 1.98 ) https://hpfx.collab.science.gc.ca /20240112/WXO-DD/bulletins/alphanumeric/20240112/SP/KWBC/20/SPXX60_KWBC_122050___51901\n",
      "2024-01-12 15:50:10,651 [INFO] 127226 sarracenia.flowcb.log after_accept accepted: (lag: 1.98 ) https://hpfx.collab.science.gc.ca /20240112/WXO-DD/bulletins/alphanumeric/20240112/SA/KWBC/20/SAUS23_KWBC_122100_RRB__25767\n",
      "2024-01-12 15:50:10,651 [INFO] 127226 sarracenia.flowcb.log after_accept accepted: (lag: 1.98 ) https://hpfx.collab.science.gc.ca /20240112/WXO-DD/bulletins/alphanumeric/20240112/SA/KWBC/20/SAUS80_KWBC_122100___64188\n",
      "2024-01-12 15:50:11,475 [INFO] 127226 sarracenia.flowcb.log after_work downloaded ok: /tmp/hpfx_amis/SAUS22_KWBC_122100_RRB__27489 \n",
      "2024-01-12 15:50:11,475 [INFO] 127226 sarracenia.flowcb.log after_work downloaded ok: /tmp/hpfx_amis/UBUS31_KWBC_122050___34623 \n",
      "2024-01-12 15:50:11,475 [INFO] 127226 sarracenia.flowcb.log after_work downloaded ok: /tmp/hpfx_amis/SAUS70_KWBC_122050___57193 \n",
      "2024-01-12 15:50:11,475 [INFO] 127226 sarracenia.flowcb.log after_work downloaded ok: /tmp/hpfx_amis/SAXX60_KWBC_122100___24162 \n",
      "2024-01-12 15:50:11,475 [INFO] 127226 sarracenia.flowcb.log after_work downloaded ok: /tmp/hpfx_amis/SAUS70_KWBC_122100___63650 \n",
      "2024-01-12 15:50:11,475 [INFO] 127226 sarracenia.flowcb.log after_work downloaded ok: /tmp/hpfx_amis/SAUS70_KWBC_122000_RRX__32907 \n",
      "2024-01-12 15:50:11,475 [INFO] 127226 sarracenia.flowcb.log after_work downloaded ok: /tmp/hpfx_amis/SAXX60_KWBC_122050___36318 \n",
      "2024-01-12 15:50:11,475 [INFO] 127226 sarracenia.flowcb.log after_work downloaded ok: /tmp/hpfx_amis/SPXX60_KWBC_122050___51901 \n",
      "2024-01-12 15:50:11,475 [INFO] 127226 sarracenia.flowcb.log after_work downloaded ok: /tmp/hpfx_amis/SAUS23_KWBC_122100_RRB__25767 \n",
      "2024-01-12 15:50:11,475 [INFO] 127226 sarracenia.flowcb.log after_work downloaded ok: /tmp/hpfx_amis/SAUS80_KWBC_122100___64188 \n",
      "2024-01-12 15:50:11,475 [INFO] 127226 sarracenia.flow please_stop ok, telling 4 callbacks about it.\n",
      "2024-01-12 15:50:11,475 [INFO] 127226 sarracenia.flow run starting last pass (without gather) through loop for cleanup.\n",
      "2024-01-12 15:50:11,480 [INFO] 127226 sarracenia.flow please_stop ok, telling 4 callbacks about it.\n",
      "2024-01-12 15:50:11,481 [INFO] 127226 sarracenia.flow run on_housekeeping pid: 127226 subscribe/hpfx_amis instance: 0\n",
      "2024-01-12 15:50:11,481 [INFO] 127226 sarracenia.flowcb.gather.message on_housekeeping messages: good: 17 bad: 0 bytes: 2.3 KiB average: 139 Bytes\n",
      "2024-01-12 15:50:11,481 [INFO] 127226 sarracenia.flowcb.retry on_housekeeping on_housekeeping\n",
      "2024-01-12 15:50:11,481 [INFO] 127226 sarracenia.diskqueue on_housekeeping work_retry_00 on_housekeeping\n",
      "2024-01-12 15:50:11,481 [INFO] 127226 sarracenia.diskqueue on_housekeeping No retry in list\n",
      "2024-01-12 15:50:11,481 [INFO] 127226 sarracenia.diskqueue on_housekeeping on_housekeeping elapse 0.000226\n",
      "2024-01-12 15:50:11,481 [INFO] 127226 sarracenia.diskqueue on_housekeeping post_retry_000 on_housekeeping\n",
      "2024-01-12 15:50:11,481 [INFO] 127226 sarracenia.diskqueue on_housekeeping No retry in list\n",
      "2024-01-12 15:50:11,481 [INFO] 127226 sarracenia.diskqueue on_housekeeping on_housekeeping elapse 0.000119\n",
      "2024-01-12 15:50:11,481 [INFO] 127226 sarracenia.flowcb.housekeeping.resources on_housekeeping Current Memory cpu_times: user=0.5 system=0.04\n",
      "2024-01-12 15:50:11,481 [INFO] 127226 sarracenia.flowcb.housekeeping.resources on_housekeeping Current mem usage: 92.2 MiB, accumulating count (17 or 17/100 so far) before self-setting threshold\n",
      "2024-01-12 15:50:11,482 [INFO] 127226 sarracenia.flowcb.log stats version: 3.00.51rc5, started: 7 seconds ago, last_housekeeping:  7.3 seconds ago \n",
      "2024-01-12 15:50:11,482 [INFO] 127226 sarracenia.flowcb.log stats messages received: 17, accepted: 17, rejected: 0   rate accepted: 100.0% or 2.3 m/s\n",
      "2024-01-12 15:50:11,482 [INFO] 127226 sarracenia.flowcb.log stats files transferred: 17 bytes: 5.7 KiB rate: 808 Bytes/sec\n",
      "2024-01-12 15:50:11,482 [INFO] 127226 sarracenia.flowcb.log stats lag: average: 2.21, maximum: 4.37 \n",
      "2024-01-12 15:50:11,482 [INFO] 127226 sarracenia.flowcb.log on_housekeeping housekeeping\n",
      "2024-01-12 15:50:11,482 [INFO] 127226 sarracenia.flow run clean stop from run loop\n",
      "2024-01-12 15:50:11,503 [INFO] 127226 sarracenia.flowcb.gather.message on_stop closing\n",
      "2024-01-12 15:50:11,503 [INFO] 127226 sarracenia.flow close flow/close completed cleanly pid: 127226 subscribe/hpfx_amis instance: 0\n"
     ]
    },
    {
     "name": "stdout",
     "output_type": "stream",
     "text": [
      "\r\n"
     ]
    }
   ],
   "source": [
    "!sr3 foreground subscribe/hpfx_amis.conf"
   ]
  },
  {
   "cell_type": "markdown",
   "id": "foreign-european",
   "metadata": {},
   "source": [
    "as you can see it downloaded five files to /tmp/amis.\n",
    "The _foreground_ action is intended to help with debugging, rather than real operations."
   ]
  },
  {
   "cell_type": "code",
   "execution_count": 5,
   "id": "split-writing",
   "metadata": {
    "scrolled": false
   },
   "outputs": [
    {
     "name": "stdout",
     "output_type": "stream",
     "text": [
      "2024-01-12 15:50:20,026 127310 [INFO] sarracenia.config finalize overriding batch for consistency with messageCountMax: {self.batch}\r\n",
      "status: \r\n",
      "Component/Config                         Processes   Connection        Lag                              Rates                                        \r\n",
      "                                         State   Run Retry  msg data   Queued  LagMax LagAvg  Last  %rej     pubsub messages   RxData     TxData     \r\n",
      "                                         -----   --- -----  --- ----   ------  ------ ------  ----  ----     ------ --------   ------     ------     \r\n",
      "subscribe/hpfx_amis                      stop    0/0     0 100%  16%      0    4.37s    2.21s  8.6s  0.0% 149 Bytes/s   1 msgs/s 371 Bytes/s  0 Bytes/s\r\n",
      "      Total Running Configs:   0 ( Processes: 0 missing: 0 stray: 0 )\r\n",
      "                     Memory: uss:0 Bytes rss:0 Bytes vms:0 Bytes \r\n",
      "                   CPU Time: User:0.00s System:0.00s \r\n",
      "\t   Pub/Sub Received: 1 msgs/s (149 Bytes/s), Sent:  0 msgs/s (0 Bytes/s) Queued: 0 Retry: 0, Mean lag: 2.21s\r\n",
      "\t      Data Received: 1 Files/s (371 Bytes/s), Sent: 0 Files/s (0 Bytes/s) \r\n"
     ]
    }
   ],
   "source": [
    "!sr3 status"
   ]
  },
  {
   "cell_type": "markdown",
   "id": "rocky-unemployment",
   "metadata": {},
   "source": [
    "There is 1 configuration in your list.  You can have hundreds.  The columns on the right refer to how many instances you have for each configuration. In the example above _instances_ is set to 5, so one would expect to see 5 running instances when it would be running. You can start specifc configuration with _sr3 start subscribe/*_ or start all active instances with: _sr3 start_"
   ]
  },
  {
   "cell_type": "code",
   "execution_count": 6,
   "id": "neural-laugh",
   "metadata": {
    "scrolled": false
   },
   "outputs": [
    {
     "name": "stdout",
     "output_type": "stream",
     "text": [
      "2024-01-12 15:50:30,719 127315 [INFO] sarracenia.config finalize overriding batch for consistency with messageCountMax: {self.batch}\r\n",
      "tail: cannot open '/home/peter/.cache/sr3/log/subscribe_hpfx_amis_01.log' for reading: No such file or directory\r\n",
      "tail: no files remaining\r\n",
      "2024-01-12 15:50:30,722 127315 [CRITICAL] root run_command subprocess.run failed err=Command '['tail', '-f', '/home/peter/.cache/sr3/log/subscribe_hpfx_amis_01.log']' returned non-zero exit status 1.\r\n",
      "\r\n"
     ]
    }
   ],
   "source": [
    "!sr3 log subscribe/hpfx_amis.conf"
   ]
  },
  {
   "cell_type": "markdown",
   "id": "leading-matthew",
   "metadata": {},
   "source": [
    "When running in the background, output needs to go a log file. As we have only run this configuration file in the foreground, asking to see the log prints an error about the log being missing. This tells you that the logs are in the _~/.cache/sr3/log_ directory. Logs can be monitored in real-time with traditional tools such as _tail -f_ or  _grep_.\n",
    "\n",
    "_sr3 stop_ does what you expect.\n",
    "\n",
    "Processes can crash. In the _sr3 status_ output above, if the number of processes in the Run column is less than in the Exp (for Expected) one, then it means that some instances have crashed.  you can repair it (just start the missing instances) with:\n",
    "\n",
    "_sr3 sanity_  -- start missing instances, also kill strays if any found.\n",
    "\n",
    "So that's it, an introduction to running configurations in Sarracenia from the command line.\n",
    "\n",
    "\n",
    "## Conclusion\n",
    "\n",
    "If all you want to do is obtain data from a data pump in real-time, using the command line interface to control some processes that run all the time, so that they dump files in a certain directory is the easiest way to go.\n",
    "\n",
    "It isn't very efficient though.  When you have large numbers of files to work with, and you want high speed processing, it is better, in the sense of lower cpu and i/o overhead, and in terms of speed of processing,\n",
    "to have your own application informed of the arrival of files, rather than scanning a directory.\n",
    "\n",
    "The easiest way to do that is to add some callbacks to your flows.  We'll cover that next."
   ]
  },
  {
   "cell_type": "code",
   "execution_count": null,
   "id": "artistic-purple",
   "metadata": {},
   "outputs": [],
   "source": []
  }
 ],
 "metadata": {
  "kernelspec": {
   "display_name": "Python 3 (ipykernel)",
   "language": "python",
   "name": "python3"
  },
  "language_info": {
   "codemirror_mode": {
    "name": "ipython",
    "version": 3
   },
   "file_extension": ".py",
   "mimetype": "text/x-python",
   "name": "python",
   "nbconvert_exporter": "python",
   "pygments_lexer": "ipython3",
   "version": "3.10.12"
  }
 },
 "nbformat": 4,
 "nbformat_minor": 5
}
