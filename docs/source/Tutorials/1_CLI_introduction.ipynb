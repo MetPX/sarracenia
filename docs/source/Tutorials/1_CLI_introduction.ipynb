{
 "cells": [
  {
   "cell_type": "markdown",
   "id": "chubby-tenant",
   "metadata": {},
   "source": [
    "# Downloading Using the Command Line\n",
    "\n",
    "This [jupyter notebook](https://jupyter.org) introduces [Sarracenia version 3](https://metpx.github.io/sarracenia) usage from the command line (mostly on Linux, but should be similar on Windows and Mac also, main difference being different conventions for where preferences and logs are stored. This is probably the easiest way to work with Sarracenia. You configure a flow to download files into a directory, and you can read the directory to process the files there.\n"
   ]
  },
  {
   "cell_type": "code",
   "execution_count": 1,
   "id": "neither-shannon",
   "metadata": {},
   "outputs": [],
   "source": [
    "import sarracenia\n",
    "!mkdir -p ~/.config/sr3/subscribe\n",
    "!mkdir -p ~/.cache/sr3/log"
   ]
  },
  {
   "cell_type": "markdown",
   "id": "varying-armor",
   "metadata": {},
   "source": [
    "\n",
    "## Prerequisites\n",
    "\n",
    "The above is just a way to get jupyter notebooks to install metpx-sr3 on a server.\n",
    "Creating some directories in case people use API access without running things through the API. The basic pre-requisite is to have metpx-sr3 installed somehow, either as a .deb package, or using pip (or pip3) available to the environment used by jupyter.\n",
    "\n",
    "The rest of this notebook assumes [metpx-sr3](https://metpx.github.io/sarracenia) is installed."
   ]
  },
  {
   "cell_type": "markdown",
   "id": "absolute-integral",
   "metadata": {},
   "source": [
    "## SR3\n",
    "\n",
    "The command line interface is called [sr3](../Reference/sr3.1.html) (short for Sarracenia version 3). One defines\n",
    "flows to run using configuration files in a simple format: _keyword_ _value_ format.\n",
    "there are example configurations to get you started:"
   ]
  },
  {
   "cell_type": "code",
   "execution_count": 2,
   "id": "drawn-opposition",
   "metadata": {
    "scrolled": false
   },
   "outputs": [
    {
     "name": "stdout",
     "output_type": "stream",
     "text": [
      "2023-05-28 15:24:06,526 1914254 [INFO] sarracenia.config finalize overriding batch for consistency with messageCountMax: 10\r\n",
      "Sample Configurations: (from: /home/peter/Sarracenia/sr3/sarracenia/examples )\r\n",
      "cpump/cno_trouble_f00.inc        flow/amserver.conf               \r\n",
      "flow/poll.inc                    flow/post.inc                    \r\n",
      "flow/report.inc                  flow/sarra.inc                   \r\n",
      "flow/sender.inc                  flow/shovel.inc                  \r\n",
      "flow/subscribe.inc               flow/watch.inc                   \r\n",
      "flow/winnow.inc                  poll/airnow.conf                 \r\n",
      "poll/aws-nexrad.conf             poll/mail.conf                   \r\n",
      "poll/nasa-mls-nrt.conf           poll/noaa.conf                   \r\n",
      "poll/soapshc.conf                poll/usgs.conf                   \r\n",
      "post/WMO_mesh_post.conf          sarra/wmo_mesh.conf              \r\n",
      "sender/am_send.conf              sender/ec2collab.conf            \r\n",
      "sender/pitcher_push.conf         shovel/no_trouble_f00.inc        \r\n",
      "subscribe/aws-nexrad.conf        subscribe/dd_2mqtt.conf          \r\n",
      "subscribe/dd_all.conf            subscribe/dd_amis.conf           \r\n",
      "subscribe/dd_aqhi.conf           subscribe/dd_cacn_bulletins.conf \r\n",
      "subscribe/dd_citypage.conf       subscribe/dd_cmml.conf           \r\n",
      "subscribe/dd_gdps.conf           subscribe/dd_radar.conf          \r\n",
      "subscribe/dd_rdps.conf           subscribe/dd_swob.conf           \r\n",
      "subscribe/ddc_cap-xml.conf       subscribe/ddc_normal.conf        \r\n",
      "subscribe/downloademail.conf     subscribe/ec_ninjo-a.conf        \r\n",
      "subscribe/hpfxWIS2DownloadAll.conf subscribe/hpfx_amis.conf         \r\n",
      "subscribe/hpfx_citypage.conf     subscribe/local_sub.conf         \r\n",
      "subscribe/ping.conf              subscribe/pitcher_pull.conf      \r\n",
      "subscribe/sci2ec.conf            subscribe/subnoaa.conf           \r\n",
      "subscribe/subsoapshc.conf        subscribe/subusgs.conf           \r\n",
      "watch/master.conf                watch/pitcher_client.conf        \r\n",
      "watch/pitcher_server.conf        watch/sci2ec.conf                \r\n"
     ]
    }
   ],
   "source": [
    "!sr3 list examples"
   ]
  },
  {
   "cell_type": "markdown",
   "id": "affecting-marking",
   "metadata": {},
   "source": [
    "There are different kinds for flows: the examples are classified flow type (poll, post, sarra, sender, shovel...)\n",
    "A _subscribe_ is used by clients to download from a data pump. Let's pick one of those."
   ]
  },
  {
   "cell_type": "code",
   "execution_count": 3,
   "id": "egyptian-suicide",
   "metadata": {
    "scrolled": true
   },
   "outputs": [
    {
     "name": "stdout",
     "output_type": "stream",
     "text": [
      "2023-05-28 15:24:08,749 1914255 [INFO] sarracenia.config finalize overriding batch for consistency with messageCountMax: 10\r\n",
      "add: 2023-05-28 15:24:08,750 1914255 [INFO] root add matched existing ['subscribe/hpfx_amis']\r\n",
      "2023-05-28 15:24:08,750 1914255 [ERROR] root add nothing specified to add\r\n",
      "\r\n"
     ]
    }
   ],
   "source": [
    "!sr3 add subscribe/hpfx_amis.conf"
   ]
  },
  {
   "cell_type": "markdown",
   "id": "overall-instruction",
   "metadata": {},
   "source": [
    "The files that are active for you are place in ~/.config/sr3/<flow_type>/config_name.  You can browse there \n",
    "and modify them with an editor if you like.  You can do that also with  _sr3 edit subscribe/hpfx_amis.conf_\n",
    "\n",
    "    # this is a feed of wmo bulletin (a set called AMIS in the old times)\n",
    "\n",
    "    broker amqps://hpfx.collab.science.gc.ca/\n",
    "    exchange xpublic\n",
    "\n",
    "    # instances: number of downloading processes to run at once.  defaults to 1. Not enough for this case\n",
    "    instances 5\n",
    "   \n",
    "    # expire, in operational use, should be longer than longest expected interruption\n",
    "    expire 10m\n",
    "\n",
    "    topic_prefix v02.post\n",
    "    subtopic *.WXO-DD.bulletins.alphanumeric.#\n",
    "    mirror false\n",
    "    directory /tmp/amis/\n",
    "\n",
    "added the messageCountMax, so it doesn't run forever."
   ]
  },
  {
   "cell_type": "code",
   "execution_count": 4,
   "id": "primary-score",
   "metadata": {},
   "outputs": [],
   "source": [
    "!mkdir /tmp/amis\n",
    "!echo messageCountMax 10 >>~/.config/sr3/subscribe/hpfx_amis.conf"
   ]
  },
  {
   "cell_type": "markdown",
   "id": "ancient-scholarship",
   "metadata": {},
   "source": [
    "The root directory where files are to be placed needs to exist before you start.\n",
    "the above commands are to configure on a linux machine, you might need something else on a mac or windows.\n",
    "\n",
    "You can then run a flow interactively with the _foreground_ action, and it will end quickly, like so:"
   ]
  },
  {
   "cell_type": "code",
   "execution_count": 5,
   "id": "nominated-nerve",
   "metadata": {},
   "outputs": [
    {
     "name": "stdout",
     "output_type": "stream",
     "text": [
      "2023-05-28 15:24:16,821 1914260 [INFO] sarracenia.config finalize overriding batch for consistency with messageCountMax: 10\n",
      ".2023-05-28 15:24:16,928 [INFO] 1914261 sarracenia.config finalize overriding batch for consistency with messageCountMax: 10\n",
      "2023-05-28 15:24:16,934 [INFO] 1914261 sarracenia.config finalize overriding batch for consistency with messageCountMax: 10\n",
      "2023-05-28 15:24:16,934 [INFO] 1914261 sarracenia.flow loadCallbacks flowCallback plugins to load: ['sarracenia.flowcb.gather.message.Message', 'sarracenia.flowcb.retry.Retry', 'sarracenia.flowcb.housekeeping.resources.Resources', 'log']\n",
      "2023-05-28 15:24:17,111 [INFO] 1914261 sarracenia.moth.amqp __getSetup queue declared q_anonymous_subscribe.hpfx_amis.69643324.61538382 (as: amqps://anonymous@hpfx.collab.science.gc.ca/) \n",
      "2023-05-28 15:24:17,111 [INFO] 1914261 sarracenia.moth.amqp __getSetup binding q_anonymous_subscribe.hpfx_amis.69643324.61538382 with v02.post.*.WXO-DD.bulletins.alphanumeric.# to xpublic (as: amqps://anonymous@hpfx.collab.science.gc.ca/)\n",
      "2023-05-28 15:24:17,147 [INFO] 1914261 sarracenia.flowcb.log __init__ subscribe initialized with: {'post', 'after_post', 'after_accept', 'after_work', 'on_housekeeping'}\n",
      "2023-05-28 15:24:17,147 [INFO] 1914261 sarracenia.flow run callbacks loaded: ['sarracenia.flowcb.gather.message.Message', 'sarracenia.flowcb.retry.Retry', 'sarracenia.flowcb.housekeeping.resources.Resources', 'log']\n",
      "2023-05-28 15:24:17,147 [INFO] 1914261 sarracenia.flow run pid: 1914261 subscribe/hpfx_amis.conf instance: 0\n",
      "2023-05-28 15:24:17,168 [INFO] 1914261 sarracenia.flow run now active on vip None\n",
      "2023-05-28 15:24:18,332 [INFO] 1914261 sarracenia.flowcb.log after_accept accepted: (lag: 1.11 ) https://hpfx.collab.science.gc.ca /20230528/WXO-DD/bulletins/alphanumeric/20230528/SA/CWAO/19/SAZZ40_CWAO_281900_RRW_EFOU_64642 \n",
      "2023-05-28 15:24:18,333 [INFO] 1914261 sarracenia.flowcb.log after_accept accepted: (lag: 1.62 ) https://hpfx.collab.science.gc.ca /20230528/WXO-DD/bulletins/alphanumeric/20230528/SX/KWAL/19/SXVX40_KWAL_281923___12624 \n",
      "2023-05-28 15:24:18,333 [INFO] 1914261 sarracenia.flowcb.log after_accept accepted: (lag: 1.62 ) https://hpfx.collab.science.gc.ca /20230528/WXO-DD/bulletins/alphanumeric/20230528/SN/KWNB/19/SNVD20_KWNB_281900_RRL__24342 \n",
      "2023-05-28 15:24:18,333 [INFO] 1914261 sarracenia.flowcb.log after_accept accepted: (lag: 0.61 ) https://hpfx.collab.science.gc.ca /20230528/WXO-DD/bulletins/alphanumeric/20230528/SA/KWBC/19/SAUS70_KWBC_281924_RRA__30100 \n",
      "2023-05-28 15:24:18,333 [INFO] 1914261 sarracenia.flowcb.log after_accept accepted: (lag: 0.61 ) https://hpfx.collab.science.gc.ca /20230528/WXO-DD/bulletins/alphanumeric/20230528/SR/KWAL/19/SRCN40_KWAL_281923___8005 \n",
      "2023-05-28 15:24:18,333 [INFO] 1914261 sarracenia.flowcb.log after_accept accepted: (lag: 0.61 ) https://hpfx.collab.science.gc.ca /20230528/WXO-DD/bulletins/alphanumeric/20230528/SR/KWAL/19/SRND20_KWAL_281923___24712 \n",
      "2023-05-28 15:24:18,333 [INFO] 1914261 sarracenia.flowcb.log after_accept accepted: (lag: 0.60 ) https://hpfx.collab.science.gc.ca /20230528/WXO-DD/bulletins/alphanumeric/20230528/UA/CWAO/19/UANT01_CWAO_281924___00310 \n",
      "2023-05-28 15:24:18,333 [INFO] 1914261 sarracenia.flowcb.log after_accept accepted: (lag: 0.20 ) https://hpfx.collab.science.gc.ca /20230528/WXO-DD/bulletins/alphanumeric/20230528/SA/KWBC/19/SAUS80_KWBC_281924___64946 \n",
      "2023-05-28 15:24:18,949 [INFO] 1914261 sarracenia.flowcb.log after_work downloaded ok: /tmp/hpfx_amis/SAZZ40_CWAO_281900_RRW_EFOU_64642 \n",
      "2023-05-28 15:24:18,949 [INFO] 1914261 sarracenia.flowcb.log after_work downloaded ok: /tmp/hpfx_amis/SXVX40_KWAL_281923___12624 \n",
      "2023-05-28 15:24:18,949 [INFO] 1914261 sarracenia.flowcb.log after_work downloaded ok: /tmp/hpfx_amis/SNVD20_KWNB_281900_RRL__24342 \n",
      "2023-05-28 15:24:18,949 [INFO] 1914261 sarracenia.flowcb.log after_work downloaded ok: /tmp/hpfx_amis/SAUS70_KWBC_281924_RRA__30100 \n",
      "2023-05-28 15:24:18,949 [INFO] 1914261 sarracenia.flowcb.log after_work downloaded ok: /tmp/hpfx_amis/SRCN40_KWAL_281923___8005 \n",
      "2023-05-28 15:24:18,949 [INFO] 1914261 sarracenia.flowcb.log after_work downloaded ok: /tmp/hpfx_amis/SRND20_KWAL_281923___24712 \n",
      "2023-05-28 15:24:18,949 [INFO] 1914261 sarracenia.flowcb.log after_work downloaded ok: /tmp/hpfx_amis/UANT01_CWAO_281924___00310 \n",
      "2023-05-28 15:24:18,949 [INFO] 1914261 sarracenia.flowcb.log after_work downloaded ok: /tmp/hpfx_amis/SAUS80_KWBC_281924___64946 \n",
      "2023-05-28 15:24:19,118 [INFO] 1914261 sarracenia.flowcb.log after_accept accepted: (lag: 0.99 ) https://hpfx.collab.science.gc.ca /20230528/WXO-DD/bulletins/alphanumeric/20230528/SX/KWNB/19/SXUS23_KWNB_281900_RRX__36309 \n",
      "2023-05-28 15:24:19,119 [INFO] 1914261 sarracenia.flowcb.log after_accept accepted: (lag: 0.99 ) https://hpfx.collab.science.gc.ca /20230528/WXO-DD/bulletins/alphanumeric/20230528/SP/KWBC/19/SPUS80_KWBC_281924___40647 \n",
      "2023-05-28 15:24:19,119 [INFO] 1914261 sarracenia.flowcb.log after_accept accepted: (lag: 0.99 ) https://hpfx.collab.science.gc.ca /20230528/WXO-DD/bulletins/alphanumeric/20230528/SR/KWAL/19/SRCN40_KWAL_281923___38440 \n",
      "2023-05-28 15:24:19,119 [INFO] 1914261 sarracenia.flowcb.log after_accept accepted: (lag: 1.64 ) https://hpfx.collab.science.gc.ca /20230528/WXO-DD/bulletins/alphanumeric/20230528/SO/KWNB/19/SOVD83_KWNB_281800_RRX__64658 \n",
      "2023-05-28 15:24:19,119 [INFO] 1914261 sarracenia.flowcb.log after_accept accepted: (lag: 1.63 ) https://hpfx.collab.science.gc.ca /20230528/WXO-DD/bulletins/alphanumeric/20230528/FZ/KCAR/19/FZUS51_KCAR_281923___54451 \n",
      "2023-05-28 15:24:19,119 [INFO] 1914261 sarracenia.flowcb.log after_accept accepted: (lag: 1.62 ) https://hpfx.collab.science.gc.ca /20230528/WXO-DD/bulletins/alphanumeric/20230528/SR/KWAL/19/SRCN40_KWAL_281923___2520 \n",
      "2023-05-28 15:24:19,119 [INFO] 1914261 sarracenia.flowcb.log after_accept accepted: (lag: 1.61 ) https://hpfx.collab.science.gc.ca /20230528/WXO-DD/bulletins/alphanumeric/20230528/SN/KWNB/19/SNVD20_KWNB_281900_RRM__27859 \n",
      "2023-05-28 15:24:19,790 [INFO] 1914261 sarracenia.flowcb.log after_work downloaded ok: /tmp/hpfx_amis/SXUS23_KWNB_281900_RRX__36309 \n",
      "2023-05-28 15:24:19,790 [INFO] 1914261 sarracenia.flowcb.log after_work downloaded ok: /tmp/hpfx_amis/SPUS80_KWBC_281924___40647 \n",
      "2023-05-28 15:24:19,790 [INFO] 1914261 sarracenia.flowcb.log after_work downloaded ok: /tmp/hpfx_amis/SRCN40_KWAL_281923___38440 \n",
      "2023-05-28 15:24:19,790 [INFO] 1914261 sarracenia.flowcb.log after_work downloaded ok: /tmp/hpfx_amis/SOVD83_KWNB_281800_RRX__64658 \n",
      "2023-05-28 15:24:19,790 [INFO] 1914261 sarracenia.flowcb.log after_work downloaded ok: /tmp/hpfx_amis/FZUS51_KCAR_281923___54451 \n",
      "2023-05-28 15:24:19,790 [INFO] 1914261 sarracenia.flowcb.log after_work downloaded ok: /tmp/hpfx_amis/SRCN40_KWAL_281923___2520 \n",
      "2023-05-28 15:24:19,790 [INFO] 1914261 sarracenia.flowcb.log after_work downloaded ok: /tmp/hpfx_amis/SNVD20_KWNB_281900_RRM__27859 \n",
      "2023-05-28 15:24:19,790 [INFO] 1914261 sarracenia.flow please_stop ok, telling 4 callbacks about it.\n",
      "2023-05-28 15:24:19,790 [INFO] 1914261 sarracenia.flow run starting last pass (without gather) through loop for cleanup.\n",
      "2023-05-28 15:24:19,791 [INFO] 1914261 sarracenia.flow please_stop ok, telling 4 callbacks about it.\n",
      "2023-05-28 15:24:19,791 [INFO] 1914261 sarracenia.flow run on_housekeeping pid: 1914261 subscribe/hpfx_amis.conf instance: 0\n",
      "2023-05-28 15:24:19,791 [INFO] 1914261 sarracenia.flowcb.gather.message on_housekeeping messages: good: 15 bad: 0 bytes: 2.1 KiB average: 140 Bytes\n",
      "2023-05-28 15:24:19,791 [INFO] 1914261 sarracenia.flowcb.retry on_housekeeping on_housekeeping\n",
      "2023-05-28 15:24:19,791 [INFO] 1914261 sarracenia.diskqueue on_housekeeping work_retry_00 on_housekeeping\n",
      "2023-05-28 15:24:19,791 [INFO] 1914261 sarracenia.diskqueue on_housekeeping No retry in list\n",
      "2023-05-28 15:24:19,791 [INFO] 1914261 sarracenia.diskqueue on_housekeeping on_housekeeping elapse 0.000105\n",
      "2023-05-28 15:24:19,791 [INFO] 1914261 sarracenia.diskqueue on_housekeeping post_retry_000 on_housekeeping\n",
      "2023-05-28 15:24:19,791 [INFO] 1914261 sarracenia.diskqueue on_housekeeping No retry in list\n",
      "2023-05-28 15:24:19,791 [INFO] 1914261 sarracenia.diskqueue on_housekeeping on_housekeeping elapse 0.000077\n",
      "2023-05-28 15:24:19,791 [INFO] 1914261 sarracenia.flowcb.housekeeping.resources on_housekeeping Current Memory cpu_times: user=0.13 system=0.05\n",
      "2023-05-28 15:24:19,791 [INFO] 1914261 sarracenia.flowcb.housekeeping.resources on_housekeeping Current mem usage: 54.6 MiB, accumulating count (15 or 15/100 so far) before self-setting threshold\n",
      "2023-05-28 15:24:19,791 [INFO] 1914261 sarracenia.flowcb.log stats version: 3.00.40, started: 2 seconds ago, last_housekeeping:  2.6 seconds ago \n",
      "2023-05-28 15:24:19,791 [INFO] 1914261 sarracenia.flowcb.log stats messages received: 15, accepted: 15, rejected: 0   rate accepted: 100.0% or 5.7 m/s\n",
      "2023-05-28 15:24:19,791 [INFO] 1914261 sarracenia.flowcb.log stats files transferred: 15 bytes: 12.2 KiB rate: 4.6 KiB/sec\n",
      "2023-05-28 15:24:19,791 [INFO] 1914261 sarracenia.flowcb.log stats lag: average: 1.09, maximum: 1.64 \n",
      "2023-05-28 15:24:19,791 [INFO] 1914261 sarracenia.flowcb.log on_housekeeping housekeeping\n",
      "2023-05-28 15:24:19,791 [INFO] 1914261 sarracenia.flow run clean stop from run loop\n",
      "2023-05-28 15:24:19,816 [INFO] 1914261 sarracenia.flowcb.gather.message on_stop closing\n",
      "2023-05-28 15:24:19,816 [INFO] 1914261 sarracenia.flow close flow/close completed cleanly pid: 1914261 subscribe/hpfx_amis.conf instance: 0\n"
     ]
    },
    {
     "name": "stdout",
     "output_type": "stream",
     "text": [
      "\r\n"
     ]
    }
   ],
   "source": [
    "!sr3 foreground subscribe/hpfx_amis.conf"
   ]
  },
  {
   "cell_type": "markdown",
   "id": "foreign-european",
   "metadata": {},
   "source": [
    "as you can see it downloaded five files to /tmp/amis.\n",
    "The _foreground_ action is intended to help with debugging, rather than real operations."
   ]
  },
  {
   "cell_type": "code",
   "execution_count": 6,
   "id": "split-writing",
   "metadata": {
    "scrolled": false
   },
   "outputs": [
    {
     "name": "stdout",
     "output_type": "stream",
     "text": [
      "2023-05-28 15:24:25,480 1914273 [INFO] sarracenia.config finalize overriding batch for consistency with messageCountMax: 10\r\n",
      "status: \r\n",
      "Component/Config                         Processes   Connection        Lag                Rates                                        \r\n",
      "                                         State   Run Retry  msg data   LagMax  LagAvg  %rej     pubsub   messages     RxData     TxData \r\n",
      "                                         -----   --- -----  --- ----   ------  ------  ----   --------       ----     ------     ------ \r\n",
      "subscribe/hpfx_amis                      stop    0/0     0 100%  17%    1.64s    1.09s  0.0% 252 Bytes/s   1 msgs/s  1.5 KiB/s  0 Bytes/s\r\n",
      "      Total Running Configs:   0 ( Processes: 0 missing: 0 stray: 0 )\r\n",
      "                     Memory: uss:0 Bytes rss:0 Bytes vms:0 Bytes \r\n",
      "                   CPU Time: User:0.00s System:0.00s \r\n",
      "\t   Pub/Sub Received: 252 msgs/s (252 Bytes/s), Sent:  0 msgs/s (0 Bytes/s)\r\n",
      "\t      Data Received: 1 Files/s (1.5 KiB/s), Sent: 0 Files/s (0 Bytes/s) \r\n"
     ]
    }
   ],
   "source": [
    "!sr3 status"
   ]
  },
  {
   "cell_type": "markdown",
   "id": "rocky-unemployment",
   "metadata": {},
   "source": [
    "There is 1 configuration in your list.  You can have hundreds.  The columns on the right refer to how many instances you have for each configuration. In the example above _instances_ is set to 5, so one would expect to see 5 running instances when it would be running. You can start specifc configuration with _sr3 start subscribe/*_ or start all active instances with: _sr3 start_"
   ]
  },
  {
   "cell_type": "code",
   "execution_count": 7,
   "id": "neural-laugh",
   "metadata": {
    "scrolled": false
   },
   "outputs": [
    {
     "name": "stdout",
     "output_type": "stream",
     "text": [
      "2023-05-28 15:24:34,478 1914274 [INFO] sarracenia.config finalize overriding batch for consistency with messageCountMax: 10\r\n",
      "tail: cannot open '/home/peter/.cache/sr3/log/subscribe_hpfx_amis_01.log' for reading: No such file or directory\r\n",
      "tail: no files remaining\r\n",
      "2023-05-28 15:24:34,479 1914274 [CRITICAL] root run_command subprocess.run failed err=Command '['tail', '-f', '/home/peter/.cache/sr3/log/subscribe_hpfx_amis_01.log']' returned non-zero exit status 1.\r\n",
      "\r\n"
     ]
    }
   ],
   "source": [
    "!sr3 log subscribe/hpfx_amis.conf"
   ]
  },
  {
   "cell_type": "markdown",
   "id": "leading-matthew",
   "metadata": {},
   "source": [
    "When running in the background, output needs to go a log file. As we have only run this configuration file in the foreground, asking to see the log prints an error about the log being missing. This tells you that the logs are in the _~/.cache/sr3/log_ directory. Logs can be monitored in real-time with traditional tools such as _tail -f_ or  _grep_.\n",
    "\n",
    "_sr3 stop_ does what you expect.\n",
    "\n",
    "Processes can crash. In the _sr3 status_ output above, if the number of processes in the Run column is less than in the Exp (for Expected) one, then it means that some instances have crashed.  you can repair it (just start the missing instances) with:\n",
    "\n",
    "_sr3 sanity_  -- start missing instances, also kill strays if any found.\n",
    "\n",
    "So that's it, an introduction to running configurations in Sarracenia from the command line.\n",
    "\n",
    "\n",
    "## Conclusion\n",
    "\n",
    "If all you want to do is obtain data from a data pump in real-time, using the command line interface to control some processes that run all the time, so that they dump files in a certain directory is the easiest way to go.\n",
    "\n",
    "It isn't very efficient though.  When you have large numbers of files to work with, and you want high speed processing, it is better, in the sense of lower cpu and i/o overhead, and in terms of speed of processing,\n",
    "to have your own application informed of the arrival of files, rather than scanning a directory.\n",
    "\n",
    "The easiest way to do that is to add some callbacks to your flows.  We'll cover that next."
   ]
  },
  {
   "cell_type": "code",
   "execution_count": null,
   "id": "artistic-purple",
   "metadata": {},
   "outputs": [],
   "source": []
  }
 ],
 "metadata": {
  "kernelspec": {
   "display_name": "Python 3 (ipykernel)",
   "language": "python",
   "name": "python3"
  },
  "language_info": {
   "codemirror_mode": {
    "name": "ipython",
    "version": 3
   },
   "file_extension": ".py",
   "mimetype": "text/x-python",
   "name": "python",
   "nbconvert_exporter": "python",
   "pygments_lexer": "ipython3",
   "version": "3.10.6"
  }
 },
 "nbformat": 4,
 "nbformat_minor": 5
}
